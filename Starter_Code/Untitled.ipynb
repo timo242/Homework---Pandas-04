{
 "cells": [
  {
   "cell_type": "markdown",
   "id": "6300e318-8f9a-43e9-b5ad-cf1ae812207f",
   "metadata": {},
   "source": [
    "++ Sample code"
   ]
  },
  {
   "cell_type": "code",
   "execution_count": null,
   "id": "c194ab28-eb0e-426a-bfc2-f865e138bf59",
   "metadata": {},
   "outputs": [],
   "source": [
    "#  for loop for droping nulls\n",
    "\n",
    "df_list = [whale_returns_df, algo_returns_df, sp500_history_df]\n",
    "for df in df_list:\n",
    "    df.dropna(inplace=True)"
   ]
  }
 ],
 "metadata": {
  "kernelspec": {
   "display_name": "Python 3 (ipykernel)",
   "language": "python",
   "name": "python3"
  },
  "language_info": {
   "codemirror_mode": {
    "name": "ipython",
    "version": 3
   },
   "file_extension": ".py",
   "mimetype": "text/x-python",
   "name": "python",
   "nbconvert_exporter": "python",
   "pygments_lexer": "ipython3",
   "version": "3.7.15"
  }
 },
 "nbformat": 4,
 "nbformat_minor": 5
}
